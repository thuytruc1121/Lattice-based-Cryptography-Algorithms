{
 "cells": [
  {
   "cell_type": "markdown",
   "metadata": {},
   "source": [
    "GenTrap Algorithm 1:\n",
    "Input: Matrix A_1 \\in \\ZZ^{n\\times m1}_q, m2 in unary\n",
    "delta>0 fixed constant\n",
    "m1 > d = (1+delta)n lgq\n",
    "r >= 2\n",
    "m2 > m1*l=m1*round_up(\\log_r q) \n",
    "Output: matrices U, G, R, P, C = I, A = (A1|A2), S"
   ]
  },
  {
   "cell_type": "markdown",
   "metadata": {},
   "source": [
    "input: n, delta, q, r"
   ]
  },
  {
   "cell_type": "code",
   "execution_count": 227,
   "metadata": {},
   "outputs": [
    {
     "data": {
      "text/plain": [
       "Free module of degree 80 and rank 80 over Integer Ring\n",
       "User basis matrix:\n",
       "80 x 80 dense matrix over Integer Ring"
      ]
     },
     "execution_count": 227,
     "metadata": {},
     "output_type": "execute_result"
    }
   ],
   "source": [
    "from sage.modules.free_module_integer import IntegerLattice\n",
    "A = random_matrix(ZZ, 80, 80, x=-2000, y=-2000)\n",
    "L = IntegerLattice(A);L"
   ]
  },
  {
   "cell_type": "code",
   "execution_count": 1,
   "metadata": {},
   "outputs": [],
   "source": [
    "q = 23\n",
    "n = 2\n",
    "delta = 1/3\n",
    "r = 2\n",
    "m1 = ceil((1 + delta)* n * log(q,2))\n",
    "l = ceil(log(q,r))\n",
    "m2 = ceil(m1 * l) + 2"
   ]
  },
  {
   "cell_type": "code",
   "execution_count": 2,
   "metadata": {},
   "outputs": [
    {
     "data": {
      "text/plain": [
       "67"
      ]
     },
     "execution_count": 2,
     "metadata": {},
     "output_type": "execute_result"
    }
   ],
   "source": [
    "m2"
   ]
  },
  {
   "cell_type": "code",
   "execution_count": 3,
   "metadata": {},
   "outputs": [],
   "source": [
    "from sage.modules.free_module_integer import IntegerLattice\n",
    "\n",
    "ZZq = IntegerModRing(q)\n",
    "def generateA1(n,m1):\n",
    "    A1 = random_matrix(ZZq,n,m1)\n",
    "    return A1"
   ]
  },
  {
   "cell_type": "markdown",
   "metadata": {},
   "source": [
    "Construction of H - the Hermit Normal Form of A1"
   ]
  },
  {
   "cell_type": "code",
   "execution_count": 4,
   "metadata": {},
   "outputs": [],
   "source": [
    "A1 = generateA1(n,m1)\n",
    "II = identity_matrix(m1)"
   ]
  },
  {
   "cell_type": "code",
   "execution_count": 84,
   "metadata": {},
   "outputs": [],
   "source": [
    "def HNF(A1):\n",
    "    K = matrix(ZZ,m1,m1)\n",
    "    H = A1.echelon_form(include_zero_rows = True)\n",
    "    m_H = H.T.ncols()\n",
    "    for i in range(0,m_H):\n",
    "        K.set_column(i,H.T.column(i))\n",
    "    for i in range(m_H,m1,1):\n",
    "        K.set_column(i,II.column(i)*q)\n",
    "    return K.T\n"
   ]
  },
  {
   "cell_type": "markdown",
   "metadata": {},
   "source": [
    "H = HNF(A1) - II\n",
    "H"
   ]
  },
  {
   "cell_type": "markdown",
   "metadata": {},
   "source": [
    "Construction of G"
   ]
  },
  {
   "cell_type": "code",
   "execution_count": 85,
   "metadata": {},
   "outputs": [],
   "source": [
    "def floor_vector(h):\n",
    "    for k in range(0,m1):\n",
    "        h[k] = floor(h[k])\n",
    "    return h"
   ]
  },
  {
   "cell_type": "markdown",
   "metadata": {},
   "source": [
    "G1 = []\n",
    "for i in range(0,m1):\n",
    "    Gi = matrix(ZZ,m1,l)\n",
    "    Gi.set_column(l-1,H.column(i))\n",
    "    for j in range(0,l-1):\n",
    "        Gi.set_column(j,floor_vector(H.column(i)*(1/r^(l-j-1))))\n",
    "    G1.append(Gi)\n",
    "for i in range(1,m1):\n",
    "    G[0] = block_matrix([[G[0],G[i]]])\n",
    "for i in range(m1,m2-1):\n",
    "    G[0] = block_matrix([[G[2],matrix(zero_vector(ZZ, m1)).T]])\n",
    "G[0].parent()\n",
    "G1"
   ]
  },
  {
   "cell_type": "code",
   "execution_count": 7,
   "metadata": {},
   "outputs": [],
   "source": [
    "def generateG(H):\n",
    "    G1 = []\n",
    "    for i in range(0,m1):\n",
    "        Gi = matrix(ZZ,m1,l)\n",
    "        Gi.set_column(l-1,H.column(i))\n",
    "        for j in range(0,l-1):\n",
    "            Gi.set_column(j,floor_vector(H.column(i)*(1/r^(l-j-1))))\n",
    "        G1.append(Gi)\n",
    "    \n",
    "    for i in range(1,m1):\n",
    "        G1[0] = block_matrix([[G1[0],G1[i]]])\n",
    "        \n",
    "    for i in range(m1*l,m2):\n",
    "        G1[0] = block_matrix([[G1[0],matrix(zero_vector(ZZ,m1)).T]])\n",
    "    return G1[0]"
   ]
  },
  {
   "cell_type": "markdown",
   "metadata": {},
   "source": [
    "G = generateG(H)\n",
    "G.T"
   ]
  },
  {
   "cell_type": "markdown",
   "metadata": {},
   "source": [
    "Construction of P"
   ]
  },
  {
   "cell_type": "markdown",
   "metadata": {},
   "source": [
    "II2 = identity_matrix(m2)\n",
    "II2"
   ]
  },
  {
   "cell_type": "code",
   "execution_count": 19,
   "metadata": {},
   "outputs": [],
   "source": [
    "def generateP(II2):\n",
    "    P = matrix(ZZ,m2,m1)\n",
    "    for i in range(0,m1):\n",
    "        P.set_column(i,II2.column(i*l))\n",
    "    return P"
   ]
  },
  {
   "cell_type": "markdown",
   "metadata": {},
   "source": [
    "P = generateP(II2)\n",
    "P"
   ]
  },
  {
   "cell_type": "markdown",
   "metadata": {},
   "source": [
    "Contruction of U"
   ]
  },
  {
   "cell_type": "code",
   "execution_count": 30,
   "metadata": {},
   "outputs": [],
   "source": [
    "def generateT(l,r):\n",
    "    T = matrix(ZZ,l,l)\n",
    "    for i in range(0,l):\n",
    "        for j in range(0,l):\n",
    "            if j==i:\n",
    "                T[i,j] = 1\n",
    "            elif j==i+1:\n",
    "                T[i,j] = -r\n",
    "            else:\n",
    "                T[i,j] = 0\n",
    "    return T"
   ]
  },
  {
   "cell_type": "markdown",
   "metadata": {},
   "source": [
    "T = generateT(l,r)\n",
    "T"
   ]
  },
  {
   "cell_type": "code",
   "execution_count": 44,
   "metadata": {},
   "outputs": [],
   "source": [
    "def generateU(m1,m2,l,r):\n",
    "    T = generateT(l,r)\n",
    "    #U = matrix(ZZ,m2,m2)\n",
    "    U = T\n",
    "    for i in range(0,m1-1):\n",
    "        U = block_diagonal_matrix(U,T)\n",
    "    U =  block_diagonal_matrix(U,identity_matrix(m2-l*m1))\n",
    "    return U"
   ]
  },
  {
   "cell_type": "markdown",
   "metadata": {},
   "source": [
    "U = generateU(m1,m2,l,r)\n",
    "U"
   ]
  },
  {
   "cell_type": "markdown",
   "metadata": {},
   "source": [
    "Construction of R"
   ]
  },
  {
   "cell_type": "code",
   "execution_count": 67,
   "metadata": {},
   "outputs": [],
   "source": [
    "def generateR(n,q,m1,m2,delta):\n",
    "    R = matrix(ZZ,m1,m2)\n",
    "    d = ceil((1+delta)*n* log(q,r))\n",
    "    for i in range(0,d):\n",
    "        for j in range(0,m2):\n",
    "            t = randint(1, 4)\n",
    "            if (t==1):\n",
    "                R[i,j] = 1\n",
    "            elif t==2:\n",
    "                R[i,j] = -1\n",
    "            else:\n",
    "                R[i,j] = 0\n",
    "    return R    "
   ]
  },
  {
   "cell_type": "markdown",
   "metadata": {},
   "source": [
    "R = generateR(n,q,m1,m2)\n",
    "R[9]"
   ]
  },
  {
   "cell_type": "code",
   "execution_count": 80,
   "metadata": {},
   "outputs": [],
   "source": [
    "def Gentrap(n,q,m1,m2,delta):\n",
    "    A1 = generateA1(n,m1)\n",
    "    II = identity_matrix(m1)\n",
    "    II2 = identity_matrix(m2)\n",
    "    H = HNF(A1) - II\n",
    "    G = generateG(H)\n",
    "    T = generateT(l,r)\n",
    "    U = generateU(m1,m2,l,r)\n",
    "    R = generateR(n,q,m1,m2)\n",
    "    A2 = -A1*(R+G)\n",
    "    S = block_matrix([[(G+R)*U,R*P],[U,P]])\n",
    "    A = block_matrix([A1,A2], ncols = 2)\n",
    "    return (A,S)"
   ]
  },
  {
   "cell_type": "code",
   "execution_count": 87,
   "metadata": {},
   "outputs": [
    {
     "data": {
      "text/plain": [
       "(2 x 80 dense matrix over Ring of integers modulo 23,\n",
       " 80 x 80 dense matrix over Integer Ring)"
      ]
     },
     "execution_count": 87,
     "metadata": {},
     "output_type": "execute_result"
    }
   ],
   "source": [
    "Gen = Gentrap(n,q,m1,m2,delta)\n",
    "Gen"
   ]
  },
  {
   "cell_type": "code",
   "execution_count": null,
   "metadata": {},
   "outputs": [],
   "source": []
  }
 ],
 "metadata": {
  "kernelspec": {
   "display_name": "SageMath 9.0",
   "language": "sage",
   "name": "sagemath"
  },
  "language_info": {
   "codemirror_mode": {
    "name": "ipython",
    "version": 3
   },
   "file_extension": ".py",
   "mimetype": "text/x-python",
   "name": "python",
   "nbconvert_exporter": "python",
   "pygments_lexer": "ipython3",
   "version": "3.8.10"
  }
 },
 "nbformat": 4,
 "nbformat_minor": 4
}
