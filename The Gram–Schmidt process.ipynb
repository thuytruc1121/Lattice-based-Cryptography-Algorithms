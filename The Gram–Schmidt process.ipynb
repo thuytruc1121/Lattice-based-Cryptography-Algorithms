{
 "cells": [
  {
   "cell_type": "code",
   "execution_count": 1,
   "metadata": {},
   "outputs": [
    {
     "data": {
      "text/plain": [
       "(-4, -11, 7)"
      ]
     },
     "execution_count": 1,
     "metadata": {},
     "output_type": "execute_result"
    }
   ],
   "source": [
    "#vectors\n",
    "v_1 = vector(QQ,[1,-1,2])\n",
    "v_2 = vector(QQ,[2,3,-1])\n",
    "2*v_1 - 3*v_2 #linear combination"
   ]
  },
  {
   "cell_type": "code",
   "execution_count": 2,
   "metadata": {},
   "outputs": [
    {
     "data": {
      "text/plain": [
       "sqrt(6)"
      ]
     },
     "execution_count": 2,
     "metadata": {},
     "output_type": "execute_result"
    }
   ],
   "source": [
    "v_1.norm()"
   ]
  },
  {
   "cell_type": "code",
   "execution_count": 3,
   "metadata": {},
   "outputs": [
    {
     "data": {
      "text/plain": [
       "-3"
      ]
     },
     "execution_count": 3,
     "metadata": {},
     "output_type": "execute_result"
    }
   ],
   "source": [
    "v_1.dot_product(v_2) #give the dot product of v_1 and v_2"
   ]
  },
  {
   "cell_type": "code",
   "execution_count": 6,
   "metadata": {},
   "outputs": [
    {
     "data": {
      "text/plain": [
       "(-3/7, -9/14, 3/14)"
      ]
     },
     "execution_count": 6,
     "metadata": {},
     "output_type": "execute_result"
    }
   ],
   "source": [
    "#find the orthogonal projection of v_1 onto v_2\n",
    "p = (v_1.dot_product(v_2)/(norm(v_2)^2))*v_2\n",
    "p"
   ]
  },
  {
   "cell_type": "code",
   "execution_count": 8,
   "metadata": {},
   "outputs": [
    {
     "data": {
      "text/plain": [
       "0"
      ]
     },
     "execution_count": 8,
     "metadata": {},
     "output_type": "execute_result"
    }
   ],
   "source": [
    "#check that v_2 is orthoonal to v_1-p \n",
    "v_2.dot_product(v_1-p)"
   ]
  },
  {
   "cell_type": "code",
   "execution_count": 42,
   "metadata": {},
   "outputs": [
    {
     "data": {
      "text/plain": [
       "2.97112541083283"
      ]
     },
     "execution_count": 42,
     "metadata": {},
     "output_type": "execute_result"
    }
   ],
   "source": [
    "#subrountine to fine the orthogonal projection of v onto u\n",
    "def proj(v,u):\n",
    "    a = (v.dot_product(u)/(norm(u)^2)) * u\n",
    "    return a\n",
    "u1 = vector([3,-2,4])\n",
    "u2 = vector([2,1,3])\n",
    "k = proj(u2,u1)\n",
    "norm(k).n()"
   ]
  },
  {
   "cell_type": "code",
   "execution_count": 16,
   "metadata": {},
   "outputs": [
    {
     "data": {
      "text/plain": [
       "(-0.661016949152542, -4.37288135593220, 1.91525423728814)"
      ]
     },
     "execution_count": 16,
     "metadata": {},
     "output_type": "execute_result"
    }
   ],
   "source": [
    "#matrix\n",
    "#solve Ax=b\n",
    "A = matrix(RR,[[1,-2,1],[0,2,3],[9,3,11]])\n",
    "b = vector(RR,[10,-3,2])\n",
    "x = A.solve_right(b)\n",
    "x"
   ]
  },
  {
   "cell_type": "code",
   "execution_count": 26,
   "metadata": {},
   "outputs": [
    {
     "data": {
      "text/plain": [
       "[ 1  3 -2  0  2  0]\n",
       "[ 2  6 -5 -2  4 -3]\n",
       "[ 0  0  5 10  0 15]\n",
       "[ 2  6  0  8  4 18]"
      ]
     },
     "execution_count": 26,
     "metadata": {},
     "output_type": "execute_result"
    }
   ],
   "source": [
    "#matrix space \n",
    "#B \\in \\RR^{n\\times m}\n",
    "B = matrix(QQ,[[1,3,-2,0,2,0],[2,6,-5,-2,4,-3],[0,0,5,10,0,15],[2,6,0,8,4,18]])\n",
    "B"
   ]
  },
  {
   "cell_type": "code",
   "execution_count": 27,
   "metadata": {},
   "outputs": [
    {
     "data": {
      "text/plain": [
       "Vector space of degree 4 and dimension 3 over Rational Field\n",
       "Basis matrix:\n",
       "[ 1  0 10  0]\n",
       "[ 0  1 -5  0]\n",
       "[ 0  0  0  1]"
      ]
     },
     "execution_count": 27,
     "metadata": {},
     "output_type": "execute_result"
    }
   ],
   "source": [
    "#the column space, spanned by all of the columns of A, is a subspace of RR^n\n",
    "B.column_space()"
   ]
  },
  {
   "cell_type": "code",
   "execution_count": 28,
   "metadata": {},
   "outputs": [
    {
     "data": {
      "text/plain": [
       "Vector space of degree 6 and dimension 3 over Rational Field\n",
       "Basis matrix:\n",
       "[1 3 0 4 2 0]\n",
       "[0 0 1 2 0 0]\n",
       "[0 0 0 0 0 1]"
      ]
     },
     "execution_count": 28,
     "metadata": {},
     "output_type": "execute_result"
    }
   ],
   "source": [
    "#the row space, spanned by all of the rows of A, is a subspace of RR^m\n",
    "B.row_space()"
   ]
  },
  {
   "cell_type": "code",
   "execution_count": 30,
   "metadata": {},
   "outputs": [
    {
     "data": {
      "text/plain": [
       "Vector space of degree 6 and dimension 3 over Rational Field\n",
       "Basis matrix:\n",
       "[   1    0    0    0 -1/2    0]\n",
       "[   0    1    0    0 -3/2    0]\n",
       "[   0    0    1 -1/2    1    0]"
      ]
     },
     "execution_count": 30,
     "metadata": {},
     "output_type": "execute_result"
    }
   ],
   "source": [
    "#null(kernel) space - consisting of all those vectors x for which Ax = 0.\n",
    "#this is the subspace of RR^m\n",
    "B.right_kernel()"
   ]
  },
  {
   "cell_type": "code",
   "execution_count": 31,
   "metadata": {},
   "outputs": [
    {
     "data": {
      "text/plain": [
       "Vector space of degree 4 and dimension 1 over Rational Field\n",
       "Basis matrix:\n",
       "[    1  -1/2 -1/10     0]"
      ]
     },
     "execution_count": 31,
     "metadata": {},
     "output_type": "execute_result"
    }
   ],
   "source": [
    "#xA=0\n",
    "B.left_kernel()"
   ]
  },
  {
   "cell_type": "code",
   "execution_count": 63,
   "metadata": {},
   "outputs": [
    {
     "data": {
      "text/plain": [
       "[(2, -1, 3, 1), (2, 2, 4, 0), (1, -2, 0, -1), (4, 5, 5, -1)]"
      ]
     },
     "execution_count": 63,
     "metadata": {},
     "output_type": "execute_result"
    }
   ],
   "source": [
    "#The Gram-Schmidt Process\n",
    "#detail version\n",
    "v1 = vector([2,-1,3,1])\n",
    "v2 = vector([2,2,4,0])\n",
    "v3 = vector([1,-2,0,-1])\n",
    "v4 = vector([4,5,5,-1])\n",
    "L=[v1,v2,v3,v4]\n",
    "L"
   ]
  },
  {
   "cell_type": "code",
   "execution_count": 69,
   "metadata": {},
   "outputs": [
    {
     "data": {
      "text/plain": [
       "(9, 4, 12, -1)"
      ]
     },
     "execution_count": 69,
     "metadata": {},
     "output_type": "execute_result"
    }
   ],
   "source": [
    "sum([L[i] for i in range(4)])"
   ]
  },
  {
   "cell_type": "code",
   "execution_count": 37,
   "metadata": {},
   "outputs": [
    {
     "data": {
      "text/plain": [
       "3.87298334620742"
      ]
     },
     "execution_count": 37,
     "metadata": {},
     "output_type": "execute_result"
    }
   ],
   "source": [
    "norm(v1).n()"
   ]
  },
  {
   "cell_type": "code",
   "execution_count": 52,
   "metadata": {},
   "outputs": [
    {
     "data": {
      "text/plain": [
       "(0.000000000000000, 0.000000000000000, 0.000000000000000, 0.000000000000000)"
      ]
     },
     "execution_count": 52,
     "metadata": {},
     "output_type": "execute_result"
    }
   ],
   "source": [
    "u1 = v1/norm(v1).n()\n",
    "q2 = v2 - proj(v2,u1)\n",
    "proj(v2,u1)-(v2.dot_product(u1)/(norm(u1)^2))*u1"
   ]
  },
  {
   "cell_type": "code",
   "execution_count": 53,
   "metadata": {},
   "outputs": [],
   "source": [
    "u2 = q2/norm(q2).n()\n",
    "q3 = v3 - proj(v3,u2) - proj(v3,u1)\n",
    "u3 = q3/norm(q3).n()\n",
    "q4 = v4 - proj(v4,u3) - proj(v4,u2) - proj(v4,u1)\n",
    "u4 = q4/norm(q4).n()\n",
    "G = [u1,u2,u3,u4]"
   ]
  },
  {
   "cell_type": "code",
   "execution_count": 54,
   "metadata": {},
   "outputs": [
    {
     "data": {
      "text/plain": [
       "[(0.516397779494322, -0.258198889747161, 0.774596669241483, 0.258198889747161),\n",
       " (0.0403238919272755, 0.887125622400063, 0.362915027345480, -0.282267243490929),\n",
       " (0.362915027345480, -0.282267243490929, -0.0403238919272757, -0.887125622400063),\n",
       " (0.774596669241484, 0.258198889747161, -0.516397779494322, 0.258198889747161)]"
      ]
     },
     "execution_count": 54,
     "metadata": {},
     "output_type": "execute_result"
    }
   ],
   "source": [
    "G"
   ]
  },
  {
   "cell_type": "code",
   "execution_count": 74,
   "metadata": {},
   "outputs": [],
   "source": [
    "#algorithm\n",
    "def GS(S):\n",
    "    n = len(S)\n",
    "    E = [S[0]/norm(S[0]).n()]\n",
    "    for k in range (1,n):\n",
    "        q = S[k] - sum([proj(S[k],E[i]) for i in range(k)])\n",
    "        #range(k) =[0,...,k-1]\n",
    "        E.append(q/norm(q).n())\n",
    "    return E"
   ]
  },
  {
   "cell_type": "code",
   "execution_count": 78,
   "metadata": {},
   "outputs": [
    {
     "data": {
      "text/plain": [
       "[(0.516397779494322, -0.258198889747161, 0.774596669241483, 0.258198889747161),\n",
       " (0.0403238919272755, 0.887125622400063, 0.362915027345480, -0.282267243490929),\n",
       " (0.362915027345480, -0.282267243490929, -0.0403238919272757, -0.887125622400063),\n",
       " (0.774596669241484, 0.258198889747161, -0.516397779494322, 0.258198889747161)]"
      ]
     },
     "execution_count": 78,
     "metadata": {},
     "output_type": "execute_result"
    }
   ],
   "source": [
    "G1 = GS(L)\n",
    "G1"
   ]
  },
  {
   "cell_type": "code",
   "execution_count": 81,
   "metadata": {},
   "outputs": [],
   "source": [
    "#matrix\n",
    "def G_S(S):\n",
    "    n = rank(S)\n",
    "    E = [S[0]/norm(S[0]).n()]\n",
    "    for k in range (1,n):\n",
    "        q = S[k] - sum([proj(S[k],E[i]) for i in range(k)])\n",
    "        #range(k) =[0,...,k-1]\n",
    "        E.append(q/norm(q).n())\n",
    "    return E"
   ]
  },
  {
   "cell_type": "code",
   "execution_count": 82,
   "metadata": {},
   "outputs": [
    {
     "data": {
      "text/plain": [
       "[(0.235702260395516, 0.707106781186547, -0.471404520791032, 0.000000000000000, 0.471404520791032, 0.000000000000000),\n",
       " (-0.0299342170044625, -0.0898026510133874, -0.209539519031237, -0.538815906080325, -0.0598684340089250, -0.808223859120487),\n",
       " (-0.188608384038579, 0.754433536154318, 0.502955690769545, 0.000000000000000, -0.377216768077159, 0.000000000000000)]"
      ]
     },
     "execution_count": 82,
     "metadata": {},
     "output_type": "execute_result"
    }
   ],
   "source": [
    "G2 = G_S(B)\n",
    "G2"
   ]
  },
  {
   "cell_type": "code",
   "execution_count": null,
   "metadata": {},
   "outputs": [],
   "source": []
  }
 ],
 "metadata": {
  "kernelspec": {
   "display_name": "SageMath 9.0",
   "language": "sage",
   "name": "sagemath"
  },
  "language_info": {
   "codemirror_mode": {
    "name": "ipython",
    "version": 3
   },
   "file_extension": ".py",
   "mimetype": "text/x-python",
   "name": "python",
   "nbconvert_exporter": "python",
   "pygments_lexer": "ipython3",
   "version": "3.8.10"
  }
 },
 "nbformat": 4,
 "nbformat_minor": 4
}
