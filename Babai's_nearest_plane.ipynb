{
 "cells": [
  {
   "cell_type": "code",
   "execution_count": 1,
   "id": "practical-jewel",
   "metadata": {},
   "outputs": [],
   "source": [
    "from sage.modules.free_module_integer import IntegerLattice\n",
    "\n",
    "\n",
    "def  nearest_plane(A,w0):\n",
    "    # B: lattice basis, w0: target vector\n",
    "    n = B[0].degree()\n",
    "    w = matrix(QQ,n)\n",
    "    y = matrix(ZZ,n)\n",
    "    B1, mu = B.gram_schmidt()\n",
    "    w[n-1] = w0\n",
    "    for i in range(n)[::-1]:\n",
    "        li = (w[i]*B1[i]) / (B1[i]*B1[i])\n",
    "        y[i] = round(li)*B[i]\n",
    "        if i!= 0:\n",
    "            w[i-1] = w[i] - (li - round(li)) * B1[i] - round(li) * B[i]\n",
    "    return sum(y)"
   ]
  },
  {
   "cell_type": "code",
   "execution_count": 4,
   "id": "moving-newfoundland",
   "metadata": {},
   "outputs": [
    {
     "name": "stdout",
     "output_type": "stream",
     "text": [
      "(1, -2, 0, -1, 3, -1, -1, -1, 0, -2, 1, -60, -3, 0, 2, -16, 1, -6, 1, -1, -1, -2, -1, 0, 1, -4, 0, -3, 0, -10) (2, -3, -1, -1, 3, -1, 2, 1, 1, -1, 1, -61, -2, 1, 2, -18, 1, -7, 2, -3, -2, -3, 0, -3, 2, -6, -1, -2, 0, -10)\n"
     ]
    }
   ],
   "source": [
    "A = random_matrix(ZZ, 30, 30, x=-2000, y=-2000)\n",
    "c = random_vector(30)\n",
    "t = nearest_plane(A,c)\n",
    "print(c,t)"
   ]
  },
  {
   "cell_type": "code",
   "execution_count": null,
   "id": "smooth-geometry",
   "metadata": {},
   "outputs": [],
   "source": []
  }
 ],
 "metadata": {
  "kernelspec": {
   "display_name": "SageMath 9.2",
   "language": "sage",
   "name": "sagemath"
  },
  "language_info": {
   "codemirror_mode": {
    "name": "ipython",
    "version": 3
   },
   "file_extension": ".py",
   "mimetype": "text/x-python",
   "name": "python",
   "nbconvert_exporter": "python",
   "pygments_lexer": "ipython3",
   "version": "3.9.1"
  }
 },
 "nbformat": 4,
 "nbformat_minor": 5
}
