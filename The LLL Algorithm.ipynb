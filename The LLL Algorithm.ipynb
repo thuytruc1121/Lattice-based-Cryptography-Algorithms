{
 "cells": [
  {
   "cell_type": "code",
   "execution_count": 2,
   "metadata": {},
   "outputs": [
    {
     "data": {
      "text/plain": [
       "2.97112541083283"
      ]
     },
     "execution_count": 2,
     "metadata": {},
     "output_type": "execute_result"
    }
   ],
   "source": [
    "#subrountine to fine the orthogonal projection of v onto u\n",
    "def proj(v,u):\n",
    "    a = (v.dot_product(u)/(norm(u)^2)) * u\n",
    "    return a\n",
    "u1 = vector([3,-2,4])\n",
    "u2 = vector([2,1,3])\n",
    "k = proj(u2,u1)\n",
    "norm(k).n()"
   ]
  },
  {
   "cell_type": "code",
   "execution_count": 3,
   "metadata": {},
   "outputs": [],
   "source": [
    "def GS(S):\n",
    "    n = len(S)\n",
    "    E = [S[0]/norm(S[0]).n()]\n",
    "    for k in range (1,n):\n",
    "        q = S[k] - sum([proj(S[k],E[i]) for i in range(k)])\n",
    "        #range(k) =[0,...,k-1]\n",
    "        E.append(q/norm(q).n())\n",
    "    return E"
   ]
  },
  {
   "cell_type": "code",
   "execution_count": 4,
   "metadata": {},
   "outputs": [
    {
     "data": {
      "text/plain": [
       "[(2, -1, 3, 1), (2, 2, 4, 0), (1, -2, 0, -1), (4, 5, 5, -1)]"
      ]
     },
     "execution_count": 4,
     "metadata": {},
     "output_type": "execute_result"
    }
   ],
   "source": [
    "v1 = vector([2,-1,3,1])\n",
    "v2 = vector([2,2,4,0])\n",
    "v3 = vector([1,-2,0,-1])\n",
    "v4 = vector([4,5,5,-1])\n",
    "L=[v1,v2,v3,v4]\n",
    "L"
   ]
  },
  {
   "cell_type": "code",
   "execution_count": 5,
   "metadata": {},
   "outputs": [
    {
     "data": {
      "text/plain": [
       "[(0.516397779494322, -0.258198889747161, 0.774596669241483, 0.258198889747161),\n",
       " (0.0403238919272755, 0.887125622400063, 0.362915027345480, -0.282267243490929),\n",
       " (0.362915027345480, -0.282267243490929, -0.0403238919272757, -0.887125622400063),\n",
       " (0.774596669241484, 0.258198889747161, -0.516397779494322, 0.258198889747161)]"
      ]
     },
     "execution_count": 5,
     "metadata": {},
     "output_type": "execute_result"
    }
   ],
   "source": [
    "#orthogonal basis of L\n",
    "G1 = GS(L)\n",
    "G1"
   ]
  },
  {
   "cell_type": "code",
   "execution_count": 6,
   "metadata": {},
   "outputs": [],
   "source": [
    "#Reduction Step\n",
    "def reductionstep(B,G):\n",
    "    n = len(B)\n",
    "    E=[B[0]]\n",
    "    for i in range(1,n):\n",
    "        for j in srange(i-1,0,-1, include_endpoint=True):\n",
    "            cij = round(B[i].dot_product(G[j])/(norm(G[j])^2))\n",
    "            B[i] = B[i] - cij * B[j]\n",
    "        E.append(B[i])\n",
    "    return E    "
   ]
  },
  {
   "cell_type": "code",
   "execution_count": 7,
   "metadata": {},
   "outputs": [
    {
     "data": {
      "text/plain": [
       "[(2, -1, 3, 1), (-6, 6, -8, -4), (17, -7, 25, 6), (-47, 14, -76, -19)]"
      ]
     },
     "execution_count": 7,
     "metadata": {},
     "output_type": "execute_result"
    }
   ],
   "source": [
    "reductionstep(L,G1)"
   ]
  },
  {
   "cell_type": "code",
   "execution_count": 54,
   "metadata": {},
   "outputs": [],
   "source": [
    "#computes the GS orthogonalization and then test if the matrix B is delta-reduced or not\n",
    "#b_1,...b_n, b_i\\in\\ZZ^m\n",
    "def is_LLL_reduced(B,c = 2):\n",
    "    m = B.ncols() #Return the number of columns of matrices in this space\n",
    "    n = B.nrows() #Return the number of rows of matrices in this space\n",
    "    U = matrix(RR, m, m)\n",
    "    O = matrix(RR, n, m)\n",
    "    for i in range(0,m):\n",
    "        U[i,i] = 1\n",
    "        O.set_column(i,B.column(i)) #Sets the entries of column i to the entries of B.column(i)\n",
    "        for j in range(0,i):\n",
    "            U[j,i] = (B.column(i)*O.column(j))/( O.column(j) * O.column(j)) #\\mu_{j,i}\n",
    "            O.set_column(i,O.column(i) - U[j,i] * O.column(j)) \n",
    "    \n",
    "    for i in range(0,m-1):\n",
    "        if O.column(i)*O.column(i) > c*O.column(i+1)*O.column(i+1):\n",
    "            return False\n",
    "    return True\n",
    "#U is used to compute c_{i,j} in the GS process\n",
    "#O is the GS orthogonal basis of B\n",
    "#the second for ... is used to check the second condition of the LLL basis\n"
   ]
  },
  {
   "cell_type": "code",
   "execution_count": 63,
   "metadata": {},
   "outputs": [],
   "source": [
    "#the LLL algorithm\n",
    "#the second for... in the reduction step\n",
    "def reducestep(i, B, U):\n",
    "    j=i-1\n",
    "    while j>=0:\n",
    "        B.set_column(i,B.column(i)- round(U[j,i])*B.column(j))\n",
    "        #update new U[i,j]:\n",
    "        U.set_column(i,U.column(i)- round(U[j,i])*U.column(j))\n",
    "        j = j - 1\n",
    "\n",
    "def LLL(B, c = 2):\n",
    "    m = B.ncols()\n",
    "    n = B.nrows()\n",
    "    U = matrix(RR, m, m)\n",
    "    O = matrix(RR, n, m)\n",
    "    #The GS process\n",
    "    for i in range(0,m):\n",
    "        U[i,i] = 1\n",
    "        O.set_column(i,B.column(i)) #Sets the entries of column i to the entries of B.column(i)\n",
    "        for j in range(0,i):\n",
    "            U[j,i] = (B.column(i)*O.column(j))/( O.column(j) * O.column(j)) #\\mu_{j,i}\n",
    "            O.set_column(i,O.column(i) - U[j,i] * O.column(j))\n",
    "            #O is the GS orthogonal basis of B\n",
    "            reducestep(i, B, U) # the first for... in the reduction step\n",
    "            \n",
    "    i = 0\n",
    "    #swap step\n",
    "    while i < m - 1:\n",
    "        if O.column(i)*O.column(i) <= c*O.column(i+1)*O.column(i+1):\n",
    "            #the sesond condition in the definition of LLL basis - Remark 3\n",
    "            i = i + 1\n",
    "        else:\n",
    "            #swap i <-> i + 1\n",
    "            O.set_column(i+1,O.column(i+1) + U[i,i+1]*O.column(i))\n",
    "            #update the GS of column i+1\n",
    "            #new a_{i+1} = \\tilde(b_i) - <b_i,\\tilde(a_i)>/<\\tilde(a_i),\\tilde(a_i)>\\tilde(a_i)\n",
    "            #new a_i = \\tilde(b_{i+1}) + ((<b_{i+1},\\tilde(b_{i})>/<\\tilde(b_{i}),\\tilde(b_{i})>))\\tilde(b_i)\n",
    "            #update c_{i,i+1} = <a_i,\\tilde(a_{i}+1)>/<\\tilde(a_{i}+1),\\tilde(a_{i}+1)>\n",
    "            #how ever at this step we haven't swap yet\n",
    "            # = <b_i,new b_{i+1}>/<new b_{i+1},new b_{i+1}>\n",
    "            U[i,i] = (B.column(i)*O.column(i+1))/(O.column(i+1)*O.column(i+1))\n",
    "            #swap latter\n",
    "            #old U[i,i]=1\n",
    "            U[i+1,i] = 1 #this is the new U[i,i]\n",
    "            U[i,i+1] = 1 #this is the new U[i,i]\n",
    "            U[i+1,i+1] = 0 #equal to 0 because it gonna be perpendicular, <,>=0\n",
    "            \n",
    "            #swapppppp\n",
    "            O.set_column(i,O.column(i)-U[i,i]*O.column(i+1))\n",
    "            U.swap_columns(i,i+1)\n",
    "            O.swap_columns(i,i+1) #swap a_i, a_{i+1} above\n",
    "            B.swap_columns(i,i+1)\n",
    "            for k in range(i+2,m):\n",
    "                U[i,k] = (B.column(k)*O.column(i))/(O.column(i)*O.column(i))\n",
    "                U[i+1,k] = (B.column(k)*O.column(i+1))/(O.column(i+1)*O.column(i+1))\n",
    "            \n",
    "            if abs(U[i,i+1]) > 0.5: \n",
    "                reducestep(i+1,B,U)\n",
    "                i = max(i-1,0)\n",
    "        return B "
   ]
  },
  {
   "cell_type": "code",
   "execution_count": 64,
   "metadata": {},
   "outputs": [
    {
     "data": {
      "text/plain": [
       "[  1  14   0   4   0  -1   0   0   0   2]\n",
       "[  2   2  -1  -1   0  -1   0  -1   1   3]\n",
       "[  1   1  -3   0   1   0   2  -4  -1   0]\n",
       "[ -2  -5  -1   7   0   3  -1  -2  -1   2]\n",
       "[  2  18  -1   1   0  -3   2   3   4   0]\n",
       "[  0  -1   1  30  -2  -2  -3 -11  -9   6]\n",
       "[ -3  19   2   0   1  -4  -1   0   0   2]\n",
       "[  0   4  -1   1  -1   0   1  -1  -1   2]\n",
       "[ -1   3  -3   1   1  -1   1   3   1   2]\n",
       "[  0   0 -31   1   0   0   1   0  -2  -1]"
      ]
     },
     "execution_count": 64,
     "metadata": {},
     "output_type": "execute_result"
    }
   ],
   "source": [
    "#test \n",
    "A = random_matrix(ZZ,10)\n",
    "res = LLL(A)\n",
    "res"
   ]
  },
  {
   "cell_type": "code",
   "execution_count": 65,
   "metadata": {},
   "outputs": [
    {
     "data": {
      "text/plain": [
       "False"
      ]
     },
     "execution_count": 65,
     "metadata": {},
     "output_type": "execute_result"
    }
   ],
   "source": [
    "is_LLL_reduced(res,c=2)"
   ]
  },
  {
   "cell_type": "code",
   "execution_count": null,
   "metadata": {},
   "outputs": [],
   "source": [
    "#it kept output False and it already took me 2 days...\n",
    "#I haven't figured it out why it didn't work\n",
    "#I suppose I gonna turn back to it latter..."
   ]
  },
  {
   "cell_type": "code",
   "execution_count": null,
   "metadata": {},
   "outputs": [],
   "source": []
  }
 ],
 "metadata": {
  "kernelspec": {
   "display_name": "SageMath 9.0",
   "language": "sage",
   "name": "sagemath"
  },
  "language_info": {
   "codemirror_mode": {
    "name": "ipython",
    "version": 3
   },
   "file_extension": ".py",
   "mimetype": "text/x-python",
   "name": "python",
   "nbconvert_exporter": "python",
   "pygments_lexer": "ipython3",
   "version": "3.8.10"
  }
 },
 "nbformat": 4,
 "nbformat_minor": 4
}
