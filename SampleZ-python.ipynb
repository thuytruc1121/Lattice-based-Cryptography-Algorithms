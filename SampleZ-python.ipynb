{
 "cells": [
  {
   "cell_type": "code",
   "execution_count": 29,
   "metadata": {},
   "outputs": [],
   "source": [
    "import numpy as np\n",
    "import matplotlib.pyplot as plt\n",
    "import time\n",
    "import math\n",
    "#start = time.time() #This method returns the time as a floating point number expressed in seconds since the epoch, in UTC.\n",
    "\n",
    "def gaussian(s,c,x):\n",
    "    return np.exp((-np.pi * (x - c)*(x - c))/(s*s))\n",
    "\n",
    "def SampleZ(s, c = 0, iter = 10000):\n",
    "    samples = []\n",
    "    k = s * tn\n",
    "    for i in range(iter):\n",
    "        x = np.random.randint(0,k)\n",
    "        if (x != 0):\n",
    "            if (np.random.randint(0,2)==0):\n",
    "                x = c - x\n",
    "            u = np.random.uniform(0,1)\n",
    "            if (u < gaussian(s,c,x)):\n",
    "                samples.append(x)\n",
    "        else:\n",
    "            if (np.random.randint(0,2)==0):\n",
    "                samples.append(x)\n",
    "    return samples"
   ]
  },
  {
   "cell_type": "code",
   "execution_count": 43,
   "metadata": {},
   "outputs": [
    {
     "data": {
      "text/plain": [
       "(array([  6.,  26.,  56., 129., 167., 148.,  73.,  29.,   2.,   2.]),\n",
       " array([-4. , -3.1, -2.2, -1.3, -0.4,  0.5,  1.4,  2.3,  3.2,  4.1,  5. ]),\n",
       " <BarContainer object of 10 artists>)"
      ]
     },
     "execution_count": 43,
     "metadata": {},
     "output_type": "execute_result"
    },
    {
     "data": {
      "image/png": "[encoded data removed]",
      "text/plain": [
       "<Figure size 432x288 with 1 Axes>"
      ]
     },
     "metadata": {
      "needs_background": "light"
     },
     "output_type": "display_data"
    }
   ],
   "source": [
    "n = 256\n",
    "tn = np.log2(n)\n",
    "s = 1.980000000000*np.sqrt(2) + 1\n",
    "plt.hist(SampleZ(s))"
   ]
  },
  {
   "cell_type": "code",
   "execution_count": 47,
   "metadata": {},
   "outputs": [
    {
     "data": {
      "text/plain": [
       "(array([  1.,   4.,  23.,  40., 113., 133.,  79.,  74.,  26.,  11.]),\n",
       " array([-15. , -12.3,  -9.6,  -6.9,  -4.2,  -1.5,   1.2,   3.9,   6.6,\n",
       "          9.3,  12. ]),\n",
       " <BarContainer object of 10 artists>)"
      ]
     },
     "execution_count": 47,
     "metadata": {},
     "output_type": "execute_result"
    },
    {
     "data": {
      "image/png": "[encoded data removed]",
      "text/plain": [
       "<Figure size 432x288 with 1 Axes>"
      ]
     },
     "metadata": {
      "needs_background": "light"
     },
     "output_type": "display_data"
    }
   ],
   "source": [
    "n = 1031\n",
    "tn = np.log2(n)\n",
    "s = 1.980000000000*np.sqrt(2)+8\n",
    "plt.hist(SampleZ(s))"
   ]
  },
  {
   "cell_type": "code",
   "execution_count": null,
   "metadata": {},
   "outputs": [],
   "source": []
  }
 ],
 "metadata": {
  "kernelspec": {
   "display_name": "Python 3",
   "language": "python",
   "name": "python3"
  },
  "language_info": {
   "codemirror_mode": {
    "name": "ipython",
    "version": 3
   },
   "file_extension": ".py",
   "mimetype": "text/x-python",
   "name": "python",
   "nbconvert_exporter": "python",
   "pygments_lexer": "ipython3",
   "version": "3.9.1"
  }
 },
 "nbformat": 4,
 "nbformat_minor": 2
}
